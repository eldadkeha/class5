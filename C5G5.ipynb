{
 "cells": [
  {
   "cell_type": "code",
   "execution_count": 1,
   "id": "1b92d8b5-7ec5-4461-912f-af2984fe3169",
   "metadata": {},
   "outputs": [
    {
     "data": {
      "application/vnd.jupyter.widget-view+json": {
       "model_id": "4f7252477a6447f8bf9de629c52316d2",
       "version_major": 2,
       "version_minor": 0
      },
      "text/plain": [
       "interactive(children=(IntSlider(value=1, description='Rolls', layout=Layout(width='800px'), max=10000, min=1),…"
      ]
     },
     "metadata": {},
     "output_type": "display_data"
    },
    {
     "data": {
      "application/vnd.jupyter.widget-view+json": {
       "model_id": "51bfc3b6724e4207a1b94a6118bbaf4d",
       "version_major": 2,
       "version_minor": 0
      },
      "text/plain": [
       "interactive(children=(IntSlider(value=1, description='Rolls', layout=Layout(width='800px'), max=10000, min=1),…"
      ]
     },
     "metadata": {},
     "output_type": "display_data"
    }
   ],
   "source": [
    "# nbi:hide_in \n",
    "import numpy as np\n",
    "import matplotlib.pyplot as plt\n",
    "import seaborn as sns\n",
    "from ipywidgets import interact, interactive, fixed, interact_manual, Layout\n",
    "import ipywidgets as widgets\n",
    "import random\n",
    "from IPython.display import display\n",
    "\n",
    "sns.set_style(\"dark\")\n",
    "\n",
    "# Throw a dice\n",
    "def dice(Rolls = 1):\n",
    "    result = np.zeros((Rolls))\n",
    "    for i in range(Rolls):\n",
    "            random_number = random.random()\n",
    "            outcome = [1,2,3,4,5,6]\n",
    "            ran = random.choice(outcome)\n",
    "            result[i]=ran\n",
    "    plt.figure(figsize=(8,6))\n",
    "    plt.hist(np.resize(result,(Rolls,1)),bins=[x for x in range(1,8)], color = \"lightcoral\")\n",
    "    plt.xlabel('Outcome')\n",
    "    plt.ylabel('Number Of Occurences', size = 24)\n",
    "    plt.title(\"The Good Dice\", size = 24)\n",
    "    plt.xlabel('The Number on the dice', fontsize=18)\n",
    "    plt.xticks(fontsize=16)\n",
    "    plt.show()\n",
    "    \n",
    "         \n",
    "    print('Result of throwing the dice %d times:'%(Rolls))\n",
    "\n",
    "int_widget = interactive(dice,Rolls=(1,10000,1))\n",
    "int_widget.children[0].layout = Layout(width='800px')\n",
    "display(int_widget)\n",
    "\n",
    "# Throw a dice\n",
    "def dice(Rolls = 1):\n",
    "    result = np.zeros((Rolls))\n",
    "    for i in range(Rolls):\n",
    "            random_number = random.random()\n",
    "            outcome = [1,2,3,4,5,6,6]\n",
    "            ran = random.choice(outcome)\n",
    "            result[i]=ran\n",
    "    plt.figure(figsize=(8,6))\n",
    "    plt.hist(np.resize(result,(Rolls,1)),bins=[x for x in range(1,8)], color = \"firebrick\")\n",
    "    plt.xlabel('Outcome')\n",
    "    plt.ylabel('Number Of Occurences', size = 24)\n",
    "    plt.title(\"The Fake Dice\", size = 24)\n",
    "    plt.xlabel('The Number on the dice', fontsize=18)\n",
    "    plt.xticks(fontsize=16)\n",
    "    plt.show()\n",
    "    \n",
    "         \n",
    "    print('Result of throwing the dice %d times:'%(Rolls))\n",
    "\n",
    "int_widget = interactive(dice,Rolls=(1,10000,1))\n",
    "int_widget.children[0].layout = Layout(width='800px')\n",
    "display(int_widget)\n",
    "\n",
    "\n"
   ]
  }
 ],
 "metadata": {
  "kernelspec": {
   "display_name": "Python 3 (ipykernel)",
   "language": "python",
   "name": "python3"
  },
  "language_info": {
   "codemirror_mode": {
    "name": "ipython",
    "version": 3
   },
   "file_extension": ".py",
   "mimetype": "text/x-python",
   "name": "python",
   "nbconvert_exporter": "python",
   "pygments_lexer": "ipython3",
   "version": "3.7.12"
  }
 },
 "nbformat": 4,
 "nbformat_minor": 5
}
